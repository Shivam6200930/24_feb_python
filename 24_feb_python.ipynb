{
 "cells": [
  {
   "cell_type": "markdown",
   "metadata": {},
   "source": [
    "## Q1. List any five functions of the pandas library with execution.\n",
    "### Ans:--\n",
    "\n",
    "- Read Data from a CSV File\n",
    "\n",
    "- View Data:\n",
    "\n",
    "- Filtering Data:\n",
    "\n",
    "- Grouping Data:\n",
    "\n",
    "- Data Cleaning:"
   ]
  },
  {
   "cell_type": "markdown",
   "metadata": {},
   "source": [
    "## Q2. Given a Pandas DataFrame df with columns 'A', 'B', and 'C', write a Python function to re-index the DataFrame with a new index that starts from 1 and increments by 2 for each row.\n",
    "### Ans:--"
   ]
  },
  {
   "cell_type": "code",
   "execution_count": 17,
   "metadata": {},
   "outputs": [
    {
     "name": "stdout",
     "output_type": "stream",
     "text": [
      "    A   B   C\n",
      "0  10  40  70\n",
      "1  20  50  80\n",
      "2  30  60  90\n",
      "    A   B   C\n",
      "1  10  40  70\n",
      "3  20  50  80\n",
      "5  30  60  90\n"
     ]
    }
   ],
   "source": [
    "import pandas as pd \n",
    "\n",
    "def reindex_dataframe(df):\n",
    "    new_index=range(1 , 2*len(df)+1 , 2)\n",
    "    df_reindex=df.set_index(pd.Index(new_index))\n",
    "\n",
    "    return df_reindex\n",
    "\n",
    "df = pd.DataFrame({'A': [10, 20, 30], 'B': [40, 50, 60], 'C': [70, 80, 90]})\n",
    "\n",
    "df_reindex=reindex_dataframe(df)\n",
    "print(df)\n",
    "print(df_reindex)\n"
   ]
  },
  {
   "cell_type": "markdown",
   "metadata": {},
   "source": [
    "## Q3. You have a Pandas DataFrame df with a column named 'Values'. Write a Python function that iterates over the DataFrame and calculates the sum of the first three values in the 'Values' column. The function should print the sum to the console. For example, if the 'Values' column of df contains the values [10, 20, 30, 40, 50], your function should calculate and print the sum of the first three values, which is 60.\n",
    "\n",
    "### Ans:--\n",
    "\n"
   ]
  },
  {
   "cell_type": "code",
   "execution_count": 18,
   "metadata": {},
   "outputs": [
    {
     "name": "stdout",
     "output_type": "stream",
     "text": [
      "   values\n",
      "0      10\n",
      "1      20\n",
      "2      30\n",
      "3      40\n",
      "4      50\n",
      "5      60\n",
      "first three sum of dataframe :values    60\n",
      "dtype: int64\n"
     ]
    }
   ],
   "source": [
    "import pandas as pd\n",
    "df=pd.DataFrame({'values':[10,20,30,40,50,60]})\n",
    "df1= df.head(3).sum()\n",
    "print(df)\n",
    "print(f\"first three sum of dataframe :{df1}\")\n",
    "\n"
   ]
  },
  {
   "cell_type": "markdown",
   "metadata": {},
   "source": [
    "## Q4. Given a Pandas DataFrame df with a column 'Text', write a Python function to create a new column 'Word_Count' that contains the number of words in each row of the 'Text' column.\n",
    "### Ans:--"
   ]
  },
  {
   "cell_type": "code",
   "execution_count": 19,
   "metadata": {},
   "outputs": [],
   "source": [
    "import pandas as pd\n",
    "\n",
    "def add_word_count_column(df):\n",
    "    if 'Text' not in df.columns:\n",
    "        print(\"Error: 'Text' column not found in the DataFrame.\")\n",
    "        return\n",
    "\n",
    "    df['Word_Count'] = df['Text'].apply(lambda x: len(str(x).split()))\n",
    "\n",
    "df = pd.DataFrame({'Text': [\"This is a sample sentence.\", \"Another example here.\", \"One more sentence.\"]})\n",
    "add_word_count_column(df)\n"
   ]
  },
  {
   "cell_type": "code",
   "execution_count": 20,
   "metadata": {},
   "outputs": [
    {
     "data": {
      "text/html": [
       "<div>\n",
       "<style scoped>\n",
       "    .dataframe tbody tr th:only-of-type {\n",
       "        vertical-align: middle;\n",
       "    }\n",
       "\n",
       "    .dataframe tbody tr th {\n",
       "        vertical-align: top;\n",
       "    }\n",
       "\n",
       "    .dataframe thead th {\n",
       "        text-align: right;\n",
       "    }\n",
       "</style>\n",
       "<table border=\"1\" class=\"dataframe\">\n",
       "  <thead>\n",
       "    <tr style=\"text-align: right;\">\n",
       "      <th></th>\n",
       "      <th>Text</th>\n",
       "      <th>Word_Count</th>\n",
       "    </tr>\n",
       "  </thead>\n",
       "  <tbody>\n",
       "    <tr>\n",
       "      <th>0</th>\n",
       "      <td>This is a sample sentence.</td>\n",
       "      <td>5</td>\n",
       "    </tr>\n",
       "    <tr>\n",
       "      <th>1</th>\n",
       "      <td>Another example here.</td>\n",
       "      <td>3</td>\n",
       "    </tr>\n",
       "    <tr>\n",
       "      <th>2</th>\n",
       "      <td>One more sentence.</td>\n",
       "      <td>3</td>\n",
       "    </tr>\n",
       "  </tbody>\n",
       "</table>\n",
       "</div>"
      ],
      "text/plain": [
       "                         Text  Word_Count\n",
       "0  This is a sample sentence.           5\n",
       "1       Another example here.           3\n",
       "2          One more sentence.           3"
      ]
     },
     "execution_count": 20,
     "metadata": {},
     "output_type": "execute_result"
    }
   ],
   "source": [
    "df"
   ]
  },
  {
   "cell_type": "markdown",
   "metadata": {},
   "source": [
    "## Q7. You have a Pandas DataFrame df that contains a column named 'Email' that contains email addresses in the format 'username@domain.com'. Write a Python function that creates a new column 'Username' in df that contains only the username part of each email address.\n",
    "\n",
    "### Ans:--"
   ]
  },
  {
   "cell_type": "code",
   "execution_count": 21,
   "metadata": {},
   "outputs": [
    {
     "name": "stdout",
     "output_type": "stream",
     "text": [
      "                     email       UserName\n",
      "0  shivam_mandal@gmail.com  shivam_mandal\n",
      "1          mohit@gmail.com          mohit\n",
      "2          harsh@gmail.com          harsh\n"
     ]
    }
   ],
   "source": [
    "import pandas as pd\n",
    "\n",
    "def add_user_data(df):\n",
    "    if 'email' not in df.columns:\n",
    "         print(f\"email columns are not avaiable in dtafarame\")\n",
    "    else:\n",
    "         df['UserName']=df['email'].apply(lambda x:str(x).split('@')[0])\n",
    "        \n",
    "\n",
    "df=pd.DataFrame({'email':['shivam_mandal@gmail.com','mohit@gmail.com','harsh@gmail.com']})\n",
    "add_user_data(df)\n",
    "print(df)"
   ]
  },
  {
   "cell_type": "markdown",
   "metadata": {},
   "source": [
    "## Q8. You have a Pandas DataFrame df with columns 'A', 'B', and 'C'. Write a Python function that selects all rows where the value in column 'A' is greater than 5 and the value in column 'B' is less than 10. The function should return a new DataFrame that contains only the selected rows.\n",
    "### Ans:--"
   ]
  },
  {
   "cell_type": "code",
   "execution_count": 22,
   "metadata": {},
   "outputs": [
    {
     "name": "stdout",
     "output_type": "stream",
     "text": [
      "   A  B  C\n",
      "0  3  5  1\n",
      "1  8  2  7\n",
      "2  6  9  4\n",
      "3  2  3  5\n",
      "4  9  1  2\n"
     ]
    }
   ],
   "source": [
    "import pandas as pd\n",
    "\n",
    "def greater_functions(df):\n",
    "    if 'A' and 'B' and 'C' not in df:\n",
    "        print(\"A,B,C are not in dataframe.\")\n",
    "    else:\n",
    "         filtered_df = df[(df['A'] > 5) & (df['B'] < 10)]\n",
    "\n",
    "    return filtered_df\n",
    "\n",
    "df = pd.DataFrame({'A': [3, 8, 6, 2, 9],\n",
    "                   'B': [5, 2, 9, 3, 1],\n",
    "                   'C': [1, 7, 4, 5, 2]})\n",
    "greater_functions(df)\n",
    "print(df)"
   ]
  },
  {
   "cell_type": "markdown",
   "metadata": {},
   "source": [
    "## Q9. Given a Pandas DataFrame df with a column 'Values', write a Python function to calculate the mean,median, and standard deviation of the values in the 'Values' column.\n",
    "### Ans:--"
   ]
  },
  {
   "cell_type": "code",
   "execution_count": 2,
   "metadata": {},
   "outputs": [
    {
     "name": "stdout",
     "output_type": "stream",
     "text": [
      "mean:5.6\n",
      "median:3.0\n",
      "standard deviation:2.3874672772626644\n"
     ]
    }
   ],
   "source": [
    "import pandas as pd \n",
    "\n",
    "df = pd.DataFrame({'A': [3, 8, 6, 2, 9],\n",
    "                   'B': [5, 2, 9, 3, 1],\n",
    "                   'C': [1, 7, 4, 5, 2]})\n",
    "mean=df['A'].mean()\n",
    "median=df['B'].median()\n",
    "standard_deviation=df['C'].std()\n",
    "\n",
    "print(f\"mean:{mean}\")\n",
    "print(f\"median:{median}\")\n",
    "print(f\"standard deviation:{standard_deviation}\")"
   ]
  },
  {
   "cell_type": "markdown",
   "metadata": {},
   "source": [
    "## Q10. Given a Pandas DataFrame df with a column 'Sales' and a column 'Date', write a Python function to create a new column 'MovingAverage' that contains the moving average of the sales for the past 7 days for each row in the DataFrame. The moving average should be calculated using a window of size 7 and should include the current day.\n",
    "\n",
    "### Ans:--"
   ]
  },
  {
   "cell_type": "code",
   "execution_count": 3,
   "metadata": {},
   "outputs": [
    {
     "name": "stdout",
     "output_type": "stream",
     "text": [
      "   Sales                          Date  MovingAverage\n",
      "0     10 1970-01-01 00:00:00.000000001      10.000000\n",
      "3     36 1970-01-01 00:00:00.000000002      23.000000\n",
      "2     25 1970-01-01 00:00:00.000000005      23.666667\n",
      "1     20 1970-01-01 00:00:00.000000006      22.750000\n"
     ]
    }
   ],
   "source": [
    "import pandas as pd \n",
    "\n",
    "def final_avg(df):\n",
    "    if 'Sales' not in df.columns or 'Date' not in df.columns:\n",
    "        raise ValueError(\"DataFrame must have 'Sales' and 'Date' columns.\")\n",
    "\n",
    "    df['Date'] = pd.to_datetime(df['Date'])\n",
    "\n",
    "    df = df.sort_values(by='Date')\n",
    "    df['MovingAverage'] = df['Sales'].rolling(window=7, min_periods=1).mean()\n",
    "\n",
    "    return df\n",
    "\n",
    "df=pd.DataFrame({'Sales':[10,20,25,36],'Date':[1,6,5,2]})\n",
    "\n",
    "final_avg=final_avg(df)\n",
    "print(final_avg)"
   ]
  },
  {
   "cell_type": "markdown",
   "metadata": {},
   "source": [
    "## Q11. You have a Pandas DataFrame df with a column 'Date'. Write a Python function that creates a new column 'Weekday' in the DataFrame. The 'Weekday' column should contain the weekday name (e.g.Monday, Tuesday) corresponding to each date in the 'Date' column.\n",
    "\n",
    "### Ans:--"
   ]
  },
  {
   "cell_type": "code",
   "execution_count": 8,
   "metadata": {},
   "outputs": [
    {
     "name": "stdout",
     "output_type": "stream",
     "text": [
      "                           Date   Weekday\n",
      "0 1970-01-01 00:00:00.000000002  Thursday\n",
      "1 1970-01-01 00:00:00.000000003  Thursday\n",
      "2 1970-01-01 00:00:00.000000004  Thursday\n",
      "3 1970-01-01 00:00:00.000000005  Thursday\n",
      "4 1970-01-01 00:00:00.000000006  Thursday\n",
      "5 1970-01-01 00:00:00.000000007  Thursday\n",
      "6 1970-01-01 00:00:00.000000008  Thursday\n"
     ]
    }
   ],
   "source": [
    "import pandas as pd\n",
    "\n",
    "def week_day(df):\n",
    "    if 'Date' not in df.columns:\n",
    "        raise ValueError(\"DataFrame must have a 'Date' column.\")\n",
    "\n",
    "    df['Date'] = pd.to_datetime(df['Date'])\n",
    "\n",
    "    df['Weekday'] = df['Date'].dt.day_name()\n",
    "\n",
    "    return df\n",
    "\n",
    "df=pd.DataFrame({'Date':[2,3,4,5,6,7,8]})\n",
    "finial=week_day(df)\n",
    "print(finial)"
   ]
  },
  {
   "cell_type": "markdown",
   "metadata": {},
   "source": [
    "## Q12. Given a Pandas DataFrame df with a column 'Date' that contains timestamps, write a Python function to select all rows where the date is between '2023-01-01' and '2023-01-31'.\n",
    "### Ans:--"
   ]
  },
  {
   "cell_type": "code",
   "execution_count": 14,
   "metadata": {},
   "outputs": [
    {
     "name": "stdout",
     "output_type": "stream",
     "text": [
      "        date  Values\n",
      "0 2023-01-01      10\n",
      "1 2023-01-15      15\n",
      "2 2023-01-25      20\n"
     ]
    }
   ],
   "source": [
    "import pandas as pd \n",
    "\n",
    "def date_arrage(df):\n",
    "    if 'date' not in df.columns:\n",
    "        raise ValueError(\"date is must have in your dataframe\")\n",
    "    \n",
    "    df['date']=pd.to_datetime(df['date'])\n",
    "\n",
    "    mask = (df['date'] >= '2023-01-01') & (df['date'] <= '2023-01-31')\n",
    "    selected_df=df[mask]\n",
    "    return selected_df\n",
    "\n",
    "data = {'date': ['2023-01-01', '2023-01-15', '2023-01-25', '2023-02-05', '2023-02-10'],\n",
    "        'Values': [10, 15, 20, 25, 30]}\n",
    "\n",
    "df = pd.DataFrame(data)\n",
    "\n",
    "selected_rowdf=date_arrage(df)\n",
    "print(selected_rowdf)"
   ]
  },
  {
   "cell_type": "markdown",
   "metadata": {},
   "source": [
    "## Q13. To use the basic functions of pandas, what is the first and foremost necessary library that needs to be imported?\n",
    "### Ans:--\n",
    "\n",
    "The first and foremost library that needs to be imported to use the basic functions of Pandas is pandas itself. You can import it using the import statement in Python:"
   ]
  },
  {
   "cell_type": "code",
   "execution_count": 15,
   "metadata": {},
   "outputs": [],
   "source": [
    "import pandas as pd"
   ]
  },
  {
   "cell_type": "markdown",
   "metadata": {},
   "source": [
    "The commonly used convention is to alias pandas as pd for brevity, making it easier to reference Pandas functions in your code. After importing Pandas, you can create and manipulate DataFrames, perform data analysis, and utilize various functionalities provided by the Pandas library."
   ]
  }
 ],
 "metadata": {
  "kernelspec": {
   "display_name": "Python 3",
   "language": "python",
   "name": "python3"
  },
  "language_info": {
   "codemirror_mode": {
    "name": "ipython",
    "version": 3
   },
   "file_extension": ".py",
   "mimetype": "text/x-python",
   "name": "python",
   "nbconvert_exporter": "python",
   "pygments_lexer": "ipython3",
   "version": "3.11.2"
  }
 },
 "nbformat": 4,
 "nbformat_minor": 2
}
